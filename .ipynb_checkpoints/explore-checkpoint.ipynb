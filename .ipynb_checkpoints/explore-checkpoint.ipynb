{
 "cells": [
  {
   "cell_type": "code",
   "execution_count": 52,
   "metadata": {},
   "outputs": [],
   "source": [
    "import pandas as pd\n",
    "import seaborn as sns; sns.set(color_codes=True)\n",
    "import matplotlib.pyplot as plt\n",
    "import numpy as np\n",
    "import sklearn\n",
    "import scipy\n",
    "\n",
    "import glob\n",
    "from datetime import datetime\n",
    "from collections import defaultdict"
   ]
  },
  {
   "cell_type": "code",
   "execution_count": 2,
   "metadata": {},
   "outputs": [],
   "source": [
    "data_files = glob.glob(\"data/train/*\")\n",
    "text = []\n",
    "for f in data_files:\n",
    "    with open(f) as handle:\n",
    "        text += handle.readlines()"
   ]
  },
  {
   "cell_type": "code",
   "execution_count": 3,
   "metadata": {},
   "outputs": [],
   "source": [
    "def parse_line(line):\n",
    "    t = line.split()\n",
    "    flavor = t[1]\n",
    "    y, m, d = t[2].split(\"-\")\n",
    "    y, m, d = int(y), int(m), int(d)\n",
    "    h, mi, s = t[3].split(\":\")\n",
    "    h, mi, s = int(h), int(mi), int(s)\n",
    "    time = datetime(y, m, d, h, mi, s)\n",
    "    return flavor, time"
   ]
  },
  {
   "cell_type": "code",
   "execution_count": 4,
   "metadata": {},
   "outputs": [],
   "source": [
    "records = list(map(parse_line, text))\n",
    "data = defaultdict(list)\n",
    "_, start_time = records[0]\n",
    "for flavor, time in records:\n",
    "    data[flavor].append(time)"
   ]
  },
  {
   "cell_type": "code",
   "execution_count": 17,
   "metadata": {},
   "outputs": [],
   "source": [
    "times = [d for _, dd in data.items() for d in dd]\n",
    "flavors = [f for f, dd in data.items() for _ in dd]\n",
    "df = pd.DataFrame({\"times\": times, \"flavors\": flavors}, columns = ['times', 'flavors'])\n",
    "df['times'] = pd.to_datetime(df['times'])\n",
    "df.index = df['times']"
   ]
  },
  {
   "cell_type": "code",
   "execution_count": 30,
   "metadata": {},
   "outputs": [],
   "source": [
    "t = df[\"2015-2\"][df[\"2015-2\"].flavors == \"flavor1\"].count()"
   ]
  },
  {
   "cell_type": "code",
   "execution_count": 46,
   "metadata": {},
   "outputs": [],
   "source": [
    "def get_flavor_monthly(flavor):\n",
    "    l = []\n",
    "    for m in range(1, 6):\n",
    "        t = \"2015-{}\".format(m)\n",
    "        v = df[t][df[t].flavors == flavor].count().flavors\n",
    "        l.append(v)\n",
    "    return l"
   ]
  },
  {
   "cell_type": "code",
   "execution_count": 61,
   "metadata": {},
   "outputs": [],
   "source": [
    "def plot_by_month(flavor):\n",
    "    l = get_flavor_monthly(flavor)\n",
    "    sns.tsplot(data=l, time=range(1,6))"
   ]
  },
  {
   "cell_type": "code",
   "execution_count": 86,
   "metadata": {},
   "outputs": [],
   "source": [
    "def get_flavor_weekly(flavor):\n",
    "    t = df[df[\"flavors\"] == flavor]\n",
    "    return list(t.resample(\"w\").count().flavors)"
   ]
  },
  {
   "cell_type": "code",
   "execution_count": 102,
   "metadata": {},
   "outputs": [
    {
     "name": "stderr",
     "output_type": "stream",
     "text": [
      "/usr/local/miniconda3/envs/huawei2018/lib/python3.6/site-packages/seaborn/timeseries.py:183: UserWarning: The tsplot function is deprecated and will be removed or replaced (in a substantially altered version) in a future release.\n",
      "  warnings.warn(msg, UserWarning)\n"
     ]
    },
    {
     "data": {
      "text/plain": [
       "<matplotlib.axes._subplots.AxesSubplot at 0x119dc85f8>"
      ]
     },
     "execution_count": 102,
     "metadata": {},
     "output_type": "execute_result"
    },
    {
     "data": {
      "image/png": "[encoded data removed]",
      "text/plain": [
       "<Figure size 432x288 with 1 Axes>"
      ]
     },
     "metadata": {},
     "output_type": "display_data"
    }
   ],
   "source": [
    "sns.tsplot(data=get_flavor_weekly(\"flavor15\"))"
   ]
  },
  {
   "cell_type": "code",
   "execution_count": null,
   "metadata": {},
   "outputs": [],
   "source": []
  }
 ],
 "metadata": {
  "kernelspec": {
   "display_name": "Python 3",
   "language": "python",
   "name": "python3"
  },
  "language_info": {
   "codemirror_mode": {
    "name": "ipython",
    "version": 3
   },
   "file_extension": ".py",
   "mimetype": "text/x-python",
   "name": "python",
   "nbconvert_exporter": "python",
   "pygments_lexer": "ipython3",
   "version": "3.6.2"
  }
 },
 "nbformat": 4,
 "nbformat_minor": 2
}
