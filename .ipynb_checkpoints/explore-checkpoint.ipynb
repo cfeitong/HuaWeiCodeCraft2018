{
 "cells": [
  {
   "cell_type": "code",
   "execution_count": 15,
   "metadata": {},
   "outputs": [],
   "source": [
    "import pandas as pd\n",
    "import numpy as np\n",
    "import sklearn\n",
    "import scipy\n",
    "\n",
    "import glob\n",
    "from datetime import datetime"
   ]
  },
  {
   "cell_type": "code",
   "execution_count": 8,
   "metadata": {},
   "outputs": [],
   "source": [
    "data_files = glob.glob(\"data/train/*\")\n",
    "text = []\n",
    "for f in data_files:\n",
    "    with open(f) as handle:\n",
    "        text += handle.readlines()"
   ]
  },
  {
   "cell_type": "code",
   "execution_count": 20,
   "metadata": {},
   "outputs": [],
   "source": [
    "def parse_line(line):\n",
    "    t = line.split()\n",
    "    flavor = t[1]\n",
    "    y, m, d = t[2].split(\"-\")\n",
    "    y, m, d = int(y), int(m), int(d)\n",
    "    h, mi, s = t[3].split(\":\")\n",
    "    h, mi, s = int(h), int(mi), int(s)\n",
    "    time = datetime(y, m, d, h, mi, s)\n",
    "    return flavor, time"
   ]
  },
  {
   "cell_type": "code",
   "execution_count": 21,
   "metadata": {},
   "outputs": [],
   "source": [
    "records = map(parse_line, text)"
   ]
  },
  {
   "cell_type": "code",
   "execution_count": null,
   "metadata": {},
   "outputs": [],
   "source": []
  }
 ],
 "metadata": {
  "kernelspec": {
   "display_name": "Python 3",
   "language": "python",
   "name": "python3"
  },
  "language_info": {
   "codemirror_mode": {
    "name": "ipython",
    "version": 3
   },
   "file_extension": ".py",
   "mimetype": "text/x-python",
   "name": "python",
   "nbconvert_exporter": "python",
   "pygments_lexer": "ipython3",
   "version": "3.6.2"
  }
 },
 "nbformat": 4,
 "nbformat_minor": 2
}
